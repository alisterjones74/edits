{
  "nbformat": 4,
  "nbformat_minor": 0,
  "metadata": {
    "colab": {
      "provenance": [],
      "mount_file_id": "1Y4PUsUuJaHJBvbT1BggS4_n6m0lNaRMn",
      "authorship_tag": "ABX9TyOaVu46g2ZYOS2+RtO1T3cs",
      "include_colab_link": true
    },
    "kernelspec": {
      "name": "python3",
      "display_name": "Python 3"
    },
    "language_info": {
      "name": "python"
    },
    "gpuClass": "standard",
    "accelerator": "GPU"
  },
  "cells": [
    {
      "cell_type": "markdown",
      "metadata": {
        "id": "view-in-github",
        "colab_type": "text"
      },
      "source": [
        "<a href=\"https://colab.research.google.com/github/alisterjones74/edits/blob/main/Meshlad1.ipynb\" target=\"_parent\"><img src=\"https://colab.research.google.com/assets/colab-badge.svg\" alt=\"Open In Colab\"/></a>"
      ]
    },
    {
      "cell_type": "code",
      "execution_count": null,
      "metadata": {
        "id": "z2JBxBDpaYfg"
      },
      "outputs": [],
      "source": [
        "!apt install meshlab\n",
        "!apt install xvfb\n",
        "!apt install blender"
      ]
    },
    {
      "cell_type": "code",
      "source": [
        "cd /content/drive/MyDrive/IED/Mlab/blender-3.3.2-linux-x64"
      ],
      "metadata": {
        "colab": {
          "base_uri": "https://localhost:8080/"
        },
        "id": "grzkUmvDUa8J",
        "outputId": "9f860a63-52e9-499c-e9c8-85b6a842b865"
      },
      "execution_count": null,
      "outputs": [
        {
          "output_type": "stream",
          "name": "stdout",
          "text": [
            "/content/drive/MyDrive/IED/Mlab/blender-3.3.2-linux-x64\n"
          ]
        }
      ]
    },
    {
      "cell_type": "code",
      "source": [
        "ls"
      ],
      "metadata": {
        "colab": {
          "base_uri": "https://localhost:8080/"
        },
        "id": "QjfUgjbjUzM8",
        "outputId": "ea684534-e6aa-48f1-f933-e71fb1078164"
      },
      "execution_count": null,
      "outputs": [
        {
          "output_type": "stream",
          "name": "stdout",
          "text": [
            "0001.png                                       blender-softwaregl\n",
            "\u001b[0m\u001b[01;34m3.3\u001b[0m/                                           blender.svg\n",
            "amesh1.ply                                     blender-symbolic.svg\n",
            "B.blend                                        blender-thumbnailer\n",
            "blender                                        copyright.txt\n",
            "\u001b[01;34mblender-3.3.2-linux-x64\u001b[0m/                       \u001b[01;34mlib\u001b[0m/\n",
            "blender-3.3.2-linux-x64.tar.xz                 \u001b[01;34mlicense\u001b[0m/\n",
            "blender_3_3_lts_splash_by_piotr_krynski.blend  readme.html\n",
            "blender.desktop\n"
          ]
        }
      ]
    },
    {
      "cell_type": "code",
      "source": [
        "!sudo blender -noaudio -b Modified_b.m.p.s.ByRobinMarin.blend  -f 1"
      ],
      "metadata": {
        "colab": {
          "base_uri": "https://localhost:8080/"
        },
        "id": "yjSGfcq6jsHN",
        "outputId": "0fb02d13-c5d5-4edd-f85b-8049a72df8ef"
      },
      "execution_count": null,
      "outputs": [
        {
          "output_type": "stream",
          "name": "stdout",
          "text": [
            "CUDA cuInit: Unknown CUDA error value\n",
            "Read blend: /content/drive/MyDrive/IED/Mlab/blender-3.3.2-linux-x64/Modified_b.m.p.s.ByRobinMarin.blend\n",
            "warning DM_ensure_tessface: could not create tessfaces from 512 polygons, dm->type=2\n",
            "warning DM_ensure_tessface: could not create tessfaces from 576 polygons, dm->type=2\n",
            "warning DM_ensure_tessface: could not create tessfaces from 12424 polygons, dm->type=2\n",
            "warning DM_ensure_tessface: could not create tessfaces from 144 polygons, dm->type=2\n",
            "warning DM_ensure_tessface: could not create tessfaces from 144 polygons, dm->type=2\n",
            "warning DM_ensure_tessface: could not create tessfaces from 144 polygons, dm->type=2\n",
            "warning DM_ensure_tessface: could not create tessfaces from 5888 polygons, dm->type=2\n",
            "warning DM_ensure_tessface: could not create tessfaces from 144 polygons, dm->type=2\n",
            "warning DM_ensure_tessface: could not create tessfaces from 104536 polygons, dm->type=2\n",
            "Fra:1 Mem:85.43M (0.00M, Peak 85.43M) | Time:00:00.00 | Mem:0.00M, Peak:0.00M | Scene, RenderLayer | Synchronizing object | Plane.005\n",
            "Fra:1 Mem:85.43M (0.00M, Peak 85.44M) | Time:00:00.00 | Mem:0.00M, Peak:0.00M | Scene, RenderLayer | Synchronizing object | LightPlaneBig.001\n",
            "Fra:1 Mem:85.44M (0.00M, Peak 85.54M) | Time:00:00.00 | Mem:0.00M, Peak:0.00M | Scene, RenderLayer | Synchronizing object | Plane\n",
            "Fra:1 Mem:85.44M (0.00M, Peak 85.54M) | Time:00:00.00 | Mem:0.00M, Peak:0.00M | Scene, RenderLayer | Synchronizing object | Base\n",
            "Fra:1 Mem:85.93M (0.00M, Peak 87.53M) | Time:00:00.00 | Mem:0.00M, Peak:0.00M | Scene, RenderLayer | Synchronizing object | TextBase\n",
            "Fra:1 Mem:86.18M (0.00M, Peak 87.53M) | Time:00:00.01 | Mem:0.00M, Peak:0.00M | Scene, RenderLayer | Synchronizing object | Camera.001\n",
            "Fra:1 Mem:86.18M (0.00M, Peak 87.53M) | Time:00:00.01 | Mem:0.00M, Peak:0.00M | Scene, RenderLayer | Synchronizing object | Grid\n",
            "Fra:1 Mem:86.77M (0.00M, Peak 87.53M) | Time:00:00.01 | Mem:0.00M, Peak:0.00M | Scene, RenderLayer | Synchronizing object | LightPlaneBig\n",
            "Fra:1 Mem:86.78M (0.00M, Peak 87.53M) | Time:00:00.01 | Mem:0.00M, Peak:0.00M | Scene, RenderLayer | Synchronizing object | LightBackSmall\n",
            "Fra:1 Mem:86.79M (0.00M, Peak 87.53M) | Time:00:00.01 | Mem:0.00M, Peak:0.00M | Scene, RenderLayer | Synchronizing object | LightPlaneSmall\n",
            "Fra:1 Mem:86.81M (0.00M, Peak 87.53M) | Time:00:00.01 | Mem:0.00M, Peak:0.00M | Scene, RenderLayer | Synchronizing object | LogoFluidMaterial\n",
            "Fra:1 Mem:87.84M (0.00M, Peak 91.32M) | Time:00:00.02 | Mem:0.00M, Peak:0.00M | Scene, RenderLayer | Synchronizing object | LogoInside\n",
            "Fra:1 Mem:88.03M (0.00M, Peak 91.32M) | Time:00:00.02 | Mem:0.00M, Peak:0.00M | Scene, RenderLayer | Synchronizing object | LogoOutside\n",
            "Fra:1 Mem:88.20M (0.00M, Peak 91.32M) | Time:00:00.02 | Mem:0.00M, Peak:0.00M | Scene, RenderLayer | Synchronizing object | MeasurementRig\n",
            "Fra:1 Mem:88.24M (0.00M, Peak 91.32M) | Time:00:00.03 | Mem:0.00M, Peak:0.00M | Scene, RenderLayer | Synchronizing object | Arrows\n",
            "Fra:1 Mem:88.24M (0.00M, Peak 91.32M) | Time:00:00.03 | Mem:0.00M, Peak:0.00M | Scene, RenderLayer | Synchronizing object | MeasurementText\n",
            "Fra:1 Mem:88.24M (0.00M, Peak 91.32M) | Time:00:00.03 | Mem:0.00M, Peak:0.00M | Scene, RenderLayer | Synchronizing object | Numbers\n",
            "Fra:1 Mem:99.14M (0.00M, Peak 123.86M) | Time:00:00.26 | Mem:0.00M, Peak:0.00M | Scene, RenderLayer | Synchronizing object | SolidModel\n",
            "Fra:1 Mem:107.71M (0.00M, Peak 158.74M) | Time:00:00.46 | Mem:0.00M, Peak:0.00M | Scene, RenderLayer | Initializing\n",
            "Fra:1 Mem:107.71M (0.00M, Peak 158.74M) | Time:00:00.46 | Mem:0.00M, Peak:0.00M | Scene, RenderLayer | Loading render kernels (may take a few minutes the first time)\n",
            "Fra:1 Mem:107.71M (0.00M, Peak 158.74M) | Time:00:00.46 | Mem:0.00M, Peak:0.00M | Scene, RenderLayer | Waiting for render to start\n",
            "Fra:1 Mem:107.72M (0.00M, Peak 158.74M) | Time:00:00.46 | Mem:0.00M, Peak:0.00M | Scene, RenderLayer | Updating Scene\n",
            "Fra:1 Mem:107.72M (0.00M, Peak 158.74M) | Time:00:00.46 | Mem:0.00M, Peak:0.00M | Scene, RenderLayer | Updating Shaders\n",
            "Fra:1 Mem:138.75M (0.00M, Peak 176.39M) | Time:00:00.81 | Mem:0.00M, Peak:0.00M | Scene, RenderLayer | Updating Background\n",
            "Fra:1 Mem:138.75M (0.00M, Peak 176.39M) | Time:00:00.81 | Mem:0.00M, Peak:0.00M | Scene, RenderLayer | Updating Camera\n",
            "Fra:1 Mem:138.75M (0.00M, Peak 176.39M) | Time:00:00.81 | Mem:0.00M, Peak:0.00M | Scene, RenderLayer | Updating Meshes Flags\n",
            "Fra:1 Mem:138.75M (0.00M, Peak 176.39M) | Time:00:00.81 | Mem:0.00M, Peak:0.00M | Scene, RenderLayer | Updating Objects\n",
            "Fra:1 Mem:138.76M (0.00M, Peak 176.39M) | Time:00:00.81 | Mem:0.00M, Peak:0.00M | Scene, RenderLayer | Updating Objects | Copying Transformations to device\n",
            "Fra:1 Mem:138.99M (0.00M, Peak 176.39M) | Time:00:00.81 | Mem:0.23M, Peak:0.23M | Scene, RenderLayer | Updating Objects | Applying Static Transformations\n",
            "Fra:1 Mem:138.99M (0.00M, Peak 176.39M) | Time:00:00.81 | Mem:0.23M, Peak:0.23M | Scene, RenderLayer | Updating Meshes\n",
            "Fra:1 Mem:145.89M (0.00M, Peak 176.39M) | Time:00:00.83 | Mem:0.23M, Peak:0.23M | Scene, RenderLayer | Updating Mesh | Computing attributes\n",
            "Fra:1 Mem:145.95M (0.00M, Peak 176.39M) | Time:00:00.83 | Mem:0.29M, Peak:0.29M | Scene, RenderLayer | Updating Mesh | Copying Attributes to device\n",
            "Fra:1 Mem:145.95M (0.00M, Peak 176.39M) | Time:00:00.83 | Mem:0.29M, Peak:0.29M | Scene, RenderLayer | Updating Mesh BVH Arrows 1/2 | Building BVH\n",
            "Fra:1 Mem:145.95M (0.00M, Peak 176.39M) | Time:00:00.83 | Mem:0.29M, Peak:0.29M | Scene, RenderLayer | Updating Mesh BVH MeasurementText.001 2/2 | Building BVH\n",
            "Fra:1 Mem:145.97M (0.00M, Peak 176.39M) | Time:00:00.83 | Mem:0.29M, Peak:0.29M | Scene, RenderLayer | Updating Mesh BVH MeasurementText.001 2/2 | Packing BVH triangles and strands\n",
            "Fra:1 Mem:145.98M (0.00M, Peak 176.39M) | Time:00:00.83 | Mem:0.29M, Peak:0.29M | Scene, RenderLayer | Updating Mesh BVH MeasurementText.001 2/2 | Packing BVH nodes\n",
            "Fra:1 Mem:145.97M (0.00M, Peak 176.39M) | Time:00:00.83 | Mem:0.29M, Peak:0.29M | Scene, RenderLayer | Updating Mesh BVH MeasurementText.001 2/2 | Packing BVH triangles and strands\n",
            "Fra:1 Mem:145.98M (0.00M, Peak 176.39M) | Time:00:00.83 | Mem:0.29M, Peak:0.29M | Scene, RenderLayer | Updating Mesh BVH MeasurementText.001 2/2 | Packing BVH nodes\n",
            "Fra:1 Mem:145.98M (0.00M, Peak 176.39M) | Time:00:00.83 | Mem:0.29M, Peak:0.29M | Scene, RenderLayer | Updating Scene BVH | Building\n",
            "Fra:1 Mem:145.99M (0.00M, Peak 176.39M) | Time:00:00.83 | Mem:0.29M, Peak:0.29M | Scene, RenderLayer | Updating Scene BVH | Building BVH\n",
            "Fra:1 Mem:171.93M (0.00M, Peak 176.39M) | Time:00:01.11 | Mem:0.29M, Peak:0.29M | Scene, RenderLayer | Updating Scene BVH | Building BVH 42%, duplicates 0%\n",
            "Fra:1 Mem:171.93M (0.00M, Peak 176.39M) | Time:00:01.27 | Mem:0.29M, Peak:0.29M | Scene, RenderLayer | Updating Scene BVH | Packing BVH triangles and strands\n",
            "Fra:1 Mem:196.08M (0.00M, Peak 196.08M) | Time:00:01.29 | Mem:0.29M, Peak:0.29M | Scene, RenderLayer | Updating Scene BVH | Packing BVH nodes\n",
            "Fra:1 Mem:182.04M (0.00M, Peak 216.79M) | Time:00:01.35 | Mem:0.29M, Peak:0.29M | Scene, RenderLayer | Updating Scene BVH | Copying BVH to device\n",
            "Fra:1 Mem:183.76M (0.00M, Peak 216.79M) | Time:00:01.35 | Mem:36.34M, Peak:36.34M | Scene, RenderLayer | Updating Mesh | Computing normals\n",
            "Fra:1 Mem:201.44M (0.00M, Peak 216.79M) | Time:00:01.36 | Mem:36.34M, Peak:36.34M | Scene, RenderLayer | Updating Mesh | Copying Mesh to device\n",
            "Fra:1 Mem:199.72M (0.00M, Peak 216.79M) | Time:00:01.36 | Mem:54.02M, Peak:54.02M | Scene, RenderLayer | Updating Objects Flags\n",
            "Fra:1 Mem:199.72M (0.00M, Peak 216.79M) | Time:00:01.36 | Mem:54.03M, Peak:54.03M | Scene, RenderLayer | Updating Images\n",
            "Fra:1 Mem:199.72M (0.00M, Peak 216.79M) | Time:00:01.36 | Mem:54.03M, Peak:54.03M | Scene, RenderLayer | Updating Images | Loading Free HDRi bz ~zbyg@15\n",
            "Fra:1 Mem:199.71M (0.00M, Peak 260.75M) | Time:00:01.41 | Mem:84.55M, Peak:84.55M | Scene, RenderLayer | Updating Camera Volume\n",
            "Fra:1 Mem:199.71M (0.00M, Peak 260.75M) | Time:00:01.41 | Mem:84.55M, Peak:84.55M | Scene, RenderLayer | Updating Hair Systems\n",
            "Fra:1 Mem:199.71M (0.00M, Peak 260.75M) | Time:00:01.41 | Mem:84.55M, Peak:84.55M | Scene, RenderLayer | Updating Hair settings | Copying Hair settings to device\n",
            "Fra:1 Mem:199.71M (0.00M, Peak 260.75M) | Time:00:01.41 | Mem:84.55M, Peak:84.55M | Scene, RenderLayer | Updating Lookup Tables\n",
            "Fra:1 Mem:199.71M (0.00M, Peak 260.75M) | Time:00:01.41 | Mem:84.80M, Peak:84.80M | Scene, RenderLayer | Updating Lights\n",
            "Fra:1 Mem:199.71M (0.00M, Peak 260.75M) | Time:00:01.41 | Mem:84.80M, Peak:84.80M | Scene, RenderLayer | Updating Lights | Computing distribution\n",
            "Fra:1 Mem:199.73M (0.00M, Peak 260.75M) | Time:00:01.41 | Mem:84.81M, Peak:84.81M | Scene, RenderLayer | Updating Lights | Importance map\n",
            "Fra:1 Mem:200.23M (0.00M, Peak 260.75M) | Time:00:01.43 | Mem:85.32M, Peak:86.81M | Scene, RenderLayer | Updating Particle Systems\n",
            "Fra:1 Mem:200.23M (0.00M, Peak 260.75M) | Time:00:01.43 | Mem:85.32M, Peak:86.81M | Scene, RenderLayer | Updating Particle Systems | Copying Particles to device\n",
            "Fra:1 Mem:200.23M (0.00M, Peak 260.75M) | Time:00:01.43 | Mem:85.32M, Peak:86.81M | Scene, RenderLayer | Updating Integrator\n",
            "Fra:1 Mem:200.27M (0.00M, Peak 260.75M) | Time:00:01.43 | Mem:85.36M, Peak:86.81M | Scene, RenderLayer | Updating Film\n",
            "Fra:1 Mem:200.28M (0.00M, Peak 260.75M) | Time:00:01.43 | Mem:85.36M, Peak:86.81M | Scene, RenderLayer | Updating Lookup Tables\n",
            "Fra:1 Mem:200.28M (0.00M, Peak 260.75M) | Time:00:01.43 | Mem:85.36M, Peak:86.81M | Scene, RenderLayer | Updating Baking\n",
            "Fra:1 Mem:200.28M (0.00M, Peak 260.75M) | Time:00:01.43 | Mem:85.36M, Peak:86.81M | Scene, RenderLayer | Updating Device | Writing constant memory\n",
            "Fra:1 Mem:200.28M (0.00M, Peak 260.75M) | Time:00:01.43 | Mem:85.36M, Peak:86.81M | Scene, RenderLayer | Path Tracing Tile 0/240\n",
            "Fra:1 Mem:200.42M (0.00M, Peak 260.75M) | Time:00:07.33 | Remaining:11:03.14 | Mem:85.51M, Peak:86.81M | Scene, RenderLayer | Path Tracing Tile 1/240\n",
            "Fra:1 Mem:200.42M (0.00M, Peak 260.75M) | Time:00:07.41 | Remaining:11:02.04 | Mem:85.51M, Peak:86.81M | Scene, RenderLayer | Path Tracing Tile 2/240\n",
            "Fra:1 Mem:200.42M (0.00M, Peak 260.75M) | Time:00:13.64 | Remaining:11:20.10 | Mem:85.51M, Peak:86.81M | Scene, RenderLayer | Path Tracing Tile 3/240\n",
            "Fra:1 Mem:200.42M (0.00M, Peak 260.75M) | Time:00:13.81 | Remaining:11:19.06 | Mem:85.51M, Peak:86.81M | Scene, RenderLayer | Path Tracing Tile 4/240\n",
            "Fra:1 Mem:200.42M (0.00M, Peak 260.75M) | Time:00:19.71 | Remaining:11:15.77 | Mem:85.51M, Peak:86.81M | Scene, RenderLayer | Path Tracing Tile 5/240\n",
            "Fra:1 Mem:200.42M (0.00M, Peak 260.75M) | Time:00:20.18 | Remaining:11:16.83 | Mem:85.51M, Peak:86.81M | Scene, RenderLayer | Path Tracing Tile 6/240\n",
            "Fra:1 Mem:200.42M (0.00M, Peak 260.75M) | Time:00:27.07 | Remaining:12:04.21 | Mem:85.51M, Peak:86.81M | Scene, RenderLayer | Path Tracing Tile 7/240\n",
            "Fra:1 Mem:200.42M (0.00M, Peak 260.75M) | Time:00:29.94 | Remaining:12:30.40 | Mem:85.51M, Peak:86.81M | Scene, RenderLayer | Path Tracing Tile 8/240\n",
            "Fra:1 Mem:200.42M (0.00M, Peak 260.75M) | Time:00:39.65 | Remaining:13:59.33 | Mem:85.51M, Peak:86.81M | Scene, RenderLayer | Path Tracing Tile 9/240\n",
            "Fra:1 Mem:200.42M (0.00M, Peak 260.75M) | Time:00:41.99 | Remaining:14:13.86 | Mem:85.51M, Peak:86.81M | Scene, RenderLayer | Path Tracing Tile 10/240\n",
            "Fra:1 Mem:200.42M (0.00M, Peak 260.75M) | Time:00:51.64 | Remaining:15:04.01 | Mem:85.51M, Peak:86.81M | Scene, RenderLayer | Path Tracing Tile 11/240\n",
            "Fra:1 Mem:200.42M (0.00M, Peak 260.75M) | Time:00:53.40 | Remaining:15:05.78 | Mem:85.51M, Peak:86.81M | Scene, RenderLayer | Path Tracing Tile 12/240\n",
            "Fra:1 Mem:200.42M (0.00M, Peak 260.75M) | Time:01:00.43 | Remaining:14:55.68 | Mem:85.51M, Peak:86.81M | Scene, RenderLayer | Path Tracing Tile 13/240\n",
            "Fra:1 Mem:200.42M (0.00M, Peak 260.75M) | Time:01:01.15 | Remaining:14:52.90 | Mem:85.51M, Peak:86.81M | Scene, RenderLayer | Path Tracing Tile 14/240\n",
            "Fra:1 Mem:200.42M (0.00M, Peak 260.75M) | Time:01:07.11 | Remaining:14:23.11 | Mem:85.51M, Peak:86.81M | Scene, RenderLayer | Path Tracing Tile 15/240\n",
            "Fra:1 Mem:200.42M (0.00M, Peak 260.75M) | Time:01:07.69 | Remaining:14:20.27 | Mem:85.51M, Peak:86.81M | Scene, RenderLayer | Path Tracing Tile 16/240\n",
            "Fra:1 Mem:200.42M (0.00M, Peak 260.75M) | Time:01:13.73 | Remaining:13:54.32 | Mem:85.51M, Peak:86.81M | Scene, RenderLayer | Path Tracing Tile 17/240\n",
            "Fra:1 Mem:200.42M (0.00M, Peak 260.75M) | Time:01:14.08 | Remaining:13:52.71 | Mem:85.51M, Peak:86.81M | Scene, RenderLayer | Path Tracing Tile 18/240\n",
            "Fra:1 Mem:200.42M (0.00M, Peak 260.75M) | Time:01:20.15 | Remaining:13:29.16 | Mem:85.51M, Peak:86.81M | Scene, RenderLayer | Path Tracing Tile 19/240\n",
            "Fra:1 Mem:200.42M (0.00M, Peak 260.75M) | Time:01:20.60 | Remaining:13:28.91 | Mem:85.51M, Peak:86.81M | Scene, RenderLayer | Path Tracing Tile 20/240\n",
            "Fra:1 Mem:200.42M (0.00M, Peak 260.75M) | Time:01:26.08 | Remaining:13:03.94 | Mem:85.51M, Peak:86.81M | Scene, RenderLayer | Path Tracing Tile 21/240\n",
            "Fra:1 Mem:200.42M (0.00M, Peak 260.75M) | Time:01:26.49 | Remaining:13:02.24 | Mem:85.51M, Peak:86.81M | Scene, RenderLayer | Path Tracing Tile 22/240\n",
            "Fra:1 Mem:200.42M (0.00M, Peak 260.75M) | Time:01:32.37 | Remaining:12:46.34 | Mem:85.51M, Peak:86.81M | Scene, RenderLayer | Path Tracing Tile 23/240\n",
            "Fra:1 Mem:200.42M (0.00M, Peak 260.75M) | Time:01:33.20 | Remaining:12:43.93 | Mem:85.51M, Peak:86.81M | Scene, RenderLayer | Path Tracing Tile 24/240\n",
            "Fra:1 Mem:200.42M (0.00M, Peak 260.75M) | Time:01:38.80 | Remaining:12:37.59 | Mem:85.51M, Peak:86.81M | Scene, RenderLayer | Path Tracing Tile 25/240\n",
            "Fra:1 Mem:200.42M (0.00M, Peak 260.75M) | Time:01:42.16 | Remaining:12:44.49 | Mem:85.51M, Peak:86.81M | Scene, RenderLayer | Path Tracing Tile 26/240\n",
            "Fra:1 Mem:200.42M (0.00M, Peak 260.75M) | Time:02:02.42 | Remaining:14:28.36 | Mem:85.51M, Peak:86.81M | Scene, RenderLayer | Path Tracing Tile 27/240\n",
            "Fra:1 Mem:200.42M (0.00M, Peak 260.75M) | Time:02:15.76 | Remaining:15:27.31 | Mem:85.51M, Peak:86.81M | Scene, RenderLayer | Path Tracing Tile 28/240\n",
            "Fra:1 Mem:200.42M (0.00M, Peak 260.75M) | Time:02:31.28 | Remaining:16:23.41 | Mem:85.51M, Peak:86.81M | Scene, RenderLayer | Path Tracing Tile 29/240\n",
            "Fra:1 Mem:200.42M (0.00M, Peak 260.75M) | Time:02:36.08 | Remaining:16:36.13 | Mem:85.51M, Peak:86.81M | Scene, RenderLayer | Path Tracing Tile 30/240\n",
            "Fra:1 Mem:200.42M (0.00M, Peak 260.75M) | Time:02:52.94 | Remaining:17:18.38 | Mem:85.51M, Peak:86.81M | Scene, RenderLayer | Path Tracing Tile 31/240\n",
            "Fra:1 Mem:200.42M (0.00M, Peak 260.75M) | Time:02:54.80 | Remaining:17:21.79 | Mem:85.51M, Peak:86.81M | Scene, RenderLayer | Path Tracing Tile 32/240\n",
            "Fra:1 Mem:200.42M (0.00M, Peak 260.75M) | Time:03:08.95 | Remaining:17:38.45 | Mem:85.51M, Peak:86.81M | Scene, RenderLayer | Path Tracing Tile 33/240\n",
            "Fra:1 Mem:200.42M (0.00M, Peak 260.75M) | Time:03:11.39 | Remaining:17:36.13 | Mem:85.51M, Peak:86.81M | Scene, RenderLayer | Path Tracing Tile 34/240\n",
            "Fra:1 Mem:200.42M (0.00M, Peak 260.75M) | Time:03:17.14 | Remaining:17:10.28 | Mem:85.51M, Peak:86.81M | Scene, RenderLayer | Path Tracing Tile 35/240\n",
            "Fra:1 Mem:200.42M (0.00M, Peak 260.75M) | Time:03:17.64 | Remaining:17:07.33 | Mem:85.51M, Peak:86.81M | Scene, RenderLayer | Path Tracing Tile 36/240\n",
            "Fra:1 Mem:200.42M (0.00M, Peak 260.75M) | Time:03:23.29 | Remaining:16:35.69 | Mem:85.51M, Peak:86.81M | Scene, RenderLayer | Path Tracing Tile 37/240\n",
            "Fra:1 Mem:200.42M (0.00M, Peak 260.75M) | Time:03:23.74 | Remaining:16:33.27 | Mem:85.51M, Peak:86.81M | Scene, RenderLayer | Path Tracing Tile 38/240\n",
            "Fra:1 Mem:200.42M (0.00M, Peak 260.75M) | Time:03:29.42 | Remaining:16:04.89 | Mem:85.51M, Peak:86.81M | Scene, RenderLayer | Path Tracing Tile 39/240\n",
            "Fra:1 Mem:200.42M (0.00M, Peak 260.75M) | Time:03:30.06 | Remaining:16:01.88 | Mem:85.51M, Peak:86.81M | Scene, RenderLayer | Path Tracing Tile 40/240\n",
            "Fra:1 Mem:200.42M (0.00M, Peak 260.75M) | Time:03:35.55 | Remaining:15:35.68 | Mem:85.51M, Peak:86.81M | Scene, RenderLayer | Path Tracing Tile 41/240\n",
            "Fra:1 Mem:200.42M (0.00M, Peak 260.75M) | Time:03:36.15 | Remaining:15:32.99 | Mem:85.51M, Peak:86.81M | Scene, RenderLayer | Path Tracing Tile 42/240\n",
            "Fra:1 Mem:200.42M (0.00M, Peak 260.75M) | Time:03:41.89 | Remaining:15:09.73 | Mem:85.51M, Peak:86.81M | Scene, RenderLayer | Path Tracing Tile 43/240\n",
            "Fra:1 Mem:200.42M (0.00M, Peak 260.75M) | Time:03:42.60 | Remaining:15:07.27 | Mem:85.51M, Peak:86.81M | Scene, RenderLayer | Path Tracing Tile 44/240\n",
            "Fra:1 Mem:200.42M (0.00M, Peak 260.75M) | Time:03:48.99 | Remaining:15:00.54 | Mem:85.51M, Peak:86.81M | Scene, RenderLayer | Path Tracing Tile 45/240\n",
            "Fra:1 Mem:200.42M (0.00M, Peak 260.75M) | Time:03:59.04 | Remaining:15:14.99 | Mem:85.51M, Peak:86.81M | Scene, RenderLayer | Path Tracing Tile 46/240\n",
            "Fra:1 Mem:200.42M (0.00M, Peak 260.75M) | Time:04:15.48 | Remaining:15:46.53 | Mem:85.51M, Peak:86.81M | Scene, RenderLayer | Path Tracing Tile 47/240\n",
            "Fra:1 Mem:200.42M (0.00M, Peak 260.75M) | Time:04:25.87 | Remaining:16:06.87 | Mem:85.51M, Peak:86.81M | Scene, RenderLayer | Path Tracing Tile 48/240\n",
            "Fra:1 Mem:200.42M (0.00M, Peak 260.75M) | Time:04:53.58 | Remaining:17:11.18 | Mem:85.51M, Peak:86.81M | Scene, RenderLayer | Path Tracing Tile 49/240\n",
            "Fra:1 Mem:200.42M (0.00M, Peak 260.75M) | Time:05:04.27 | Remaining:17:31.05 | Mem:85.51M, Peak:86.81M | Scene, RenderLayer | Path Tracing Tile 50/240\n",
            "Fra:1 Mem:200.42M (0.00M, Peak 260.75M) | Time:05:26.07 | Remaining:18:08.42 | Mem:85.51M, Peak:86.81M | Scene, RenderLayer | Path Tracing Tile 51/240\n",
            "Fra:1 Mem:200.42M (0.00M, Peak 260.75M) | Time:05:35.64 | Remaining:18:20.64 | Mem:85.51M, Peak:86.81M | Scene, RenderLayer | Path Tracing Tile 52/240\n",
            "Fra:1 Mem:200.42M (0.00M, Peak 260.75M) | Time:05:49.53 | Remaining:18:34.52 | Mem:85.51M, Peak:86.81M | Scene, RenderLayer | Path Tracing Tile 53/240\n",
            "Fra:1 Mem:200.42M (0.00M, Peak 260.75M) | Time:06:00.98 | Remaining:18:43.91 | Mem:85.51M, Peak:86.81M | Scene, RenderLayer | Path Tracing Tile 54/240\n",
            "Fra:1 Mem:200.42M (0.00M, Peak 260.75M) | Time:06:07.49 | Remaining:18:28.99 | Mem:85.51M, Peak:86.81M | Scene, RenderLayer | Path Tracing Tile 55/240\n",
            "Fra:1 Mem:200.42M (0.00M, Peak 260.75M) | Time:06:10.99 | Remaining:18:20.94 | Mem:85.51M, Peak:86.81M | Scene, RenderLayer | Path Tracing Tile 56/240\n",
            "Fra:1 Mem:200.42M (0.00M, Peak 260.75M) | Time:06:13.86 | Remaining:18:05.87 | Mem:85.51M, Peak:86.81M | Scene, RenderLayer | Path Tracing Tile 57/240\n",
            "Fra:1 Mem:200.42M (0.00M, Peak 260.75M) | Time:06:17.26 | Remaining:17:48.25 | Mem:85.51M, Peak:86.81M | Scene, RenderLayer | Path Tracing Tile 58/240\n",
            "Fra:1 Mem:200.42M (0.00M, Peak 260.75M) | Time:06:19.87 | Remaining:17:34.44 | Mem:85.51M, Peak:86.81M | Scene, RenderLayer | Path Tracing Tile 59/240\n",
            "Fra:1 Mem:200.42M (0.00M, Peak 260.75M) | Time:06:23.42 | Remaining:17:17.05 | Mem:85.51M, Peak:86.81M | Scene, RenderLayer | Path Tracing Tile 60/240\n",
            "Fra:1 Mem:200.42M (0.00M, Peak 260.75M) | Time:06:26.14 | Remaining:17:04.09 | Mem:85.51M, Peak:86.81M | Scene, RenderLayer | Path Tracing Tile 61/240\n",
            "Fra:1 Mem:200.42M (0.00M, Peak 260.75M) | Time:06:29.54 | Remaining:16:48.28 | Mem:85.51M, Peak:86.81M | Scene, RenderLayer | Path Tracing Tile 62/240\n",
            "Fra:1 Mem:200.42M (0.00M, Peak 260.75M) | Time:06:32.45 | Remaining:16:35.33 | Mem:85.51M, Peak:86.81M | Scene, RenderLayer | Path Tracing Tile 63/240\n",
            "Fra:1 Mem:200.42M (0.00M, Peak 260.75M) | Time:06:35.86 | Remaining:16:21.74 | Mem:85.51M, Peak:86.81M | Scene, RenderLayer | Path Tracing Tile 64/240\n",
            "Fra:1 Mem:200.42M (0.00M, Peak 260.75M) | Time:06:39.47 | Remaining:16:16.58 | Mem:85.51M, Peak:86.81M | Scene, RenderLayer | Path Tracing Tile 65/240\n",
            "Fra:1 Mem:200.42M (0.00M, Peak 260.75M) | Time:06:59.83 | Remaining:16:26.76 | Mem:85.51M, Peak:86.81M | Scene, RenderLayer | Path Tracing Tile 66/240\n",
            "Fra:1 Mem:200.42M (0.00M, Peak 260.75M) | Time:06:59.91 | Remaining:16:26.82 | Mem:85.51M, Peak:86.81M | Scene, RenderLayer | Path Tracing Tile 67/240\n",
            "Fra:1 Mem:200.42M (0.00M, Peak 260.75M) | Time:07:26.43 | Remaining:16:50.40 | Mem:85.51M, Peak:86.81M | Scene, RenderLayer | Path Tracing Tile 68/240\n",
            "Fra:1 Mem:200.42M (0.00M, Peak 260.75M) | Time:07:33.32 | Remaining:16:57.03 | Mem:85.51M, Peak:86.81M | Scene, RenderLayer | Path Tracing Tile 69/240\n",
            "Fra:1 Mem:200.42M (0.00M, Peak 260.75M) | Time:08:03.53 | Remaining:17:31.08 | Mem:85.51M, Peak:86.81M | Scene, RenderLayer | Path Tracing Tile 70/240\n",
            "Fra:1 Mem:200.42M (0.00M, Peak 260.75M) | Time:08:11.49 | Remaining:17:37.02 | Mem:85.51M, Peak:86.81M | Scene, RenderLayer | Path Tracing Tile 71/240\n",
            "Fra:1 Mem:200.42M (0.00M, Peak 260.75M) | Time:08:33.09 | Remaining:17:50.63 | Mem:85.51M, Peak:86.81M | Scene, RenderLayer | Path Tracing Tile 72/240\n",
            "Fra:1 Mem:200.42M (0.00M, Peak 260.75M) | Time:08:39.82 | Remaining:17:52.33 | Mem:85.51M, Peak:86.81M | Scene, RenderLayer | Path Tracing Tile 73/240\n",
            "Fra:1 Mem:200.42M (0.00M, Peak 260.75M) | Time:08:53.91 | Remaining:17:54.47 | Mem:85.51M, Peak:86.81M | Scene, RenderLayer | Path Tracing Tile 74/240\n",
            "Fra:1 Mem:200.42M (0.00M, Peak 260.75M) | Time:09:00.52 | Remaining:17:40.74 | Mem:85.51M, Peak:86.81M | Scene, RenderLayer | Path Tracing Tile 75/240\n",
            "Fra:1 Mem:200.42M (0.00M, Peak 260.75M) | Time:09:05.17 | Remaining:17:30.83 | Mem:85.51M, Peak:86.81M | Scene, RenderLayer | Path Tracing Tile 76/240\n",
            "Fra:1 Mem:200.42M (0.00M, Peak 260.75M) | Time:09:06.87 | Remaining:17:22.40 | Mem:85.51M, Peak:86.81M | Scene, RenderLayer | Path Tracing Tile 77/240\n",
            "Fra:1 Mem:200.42M (0.00M, Peak 260.75M) | Time:09:11.05 | Remaining:17:01.64 | Mem:85.51M, Peak:86.81M | Scene, RenderLayer | Path Tracing Tile 78/240\n",
            "Fra:1 Mem:200.42M (0.00M, Peak 260.75M) | Time:09:12.80 | Remaining:16:52.97 | Mem:85.51M, Peak:86.81M | Scene, RenderLayer | Path Tracing Tile 79/240\n",
            "Fra:1 Mem:200.42M (0.00M, Peak 260.75M) | Time:09:16.91 | Remaining:16:33.91 | Mem:85.51M, Peak:86.81M | Scene, RenderLayer | Path Tracing Tile 80/240\n",
            "Fra:1 Mem:200.42M (0.00M, Peak 260.75M) | Time:09:18.91 | Remaining:16:24.84 | Mem:85.51M, Peak:86.81M | Scene, RenderLayer | Path Tracing Tile 81/240\n",
            "Fra:1 Mem:200.42M (0.00M, Peak 260.75M) | Time:09:23.07 | Remaining:16:07.32 | Mem:85.51M, Peak:86.81M | Scene, RenderLayer | Path Tracing Tile 82/240\n",
            "Fra:1 Mem:200.42M (0.00M, Peak 260.75M) | Time:09:25.33 | Remaining:15:58.40 | Mem:85.51M, Peak:86.81M | Scene, RenderLayer | Path Tracing Tile 83/240\n",
            "Fra:1 Mem:200.42M (0.00M, Peak 260.75M) | Time:09:29.57 | Remaining:15:41.87 | Mem:85.51M, Peak:86.81M | Scene, RenderLayer | Path Tracing Tile 84/240\n",
            "Fra:1 Mem:200.42M (0.00M, Peak 260.75M) | Time:09:31.87 | Remaining:15:37.63 | Mem:85.51M, Peak:86.81M | Scene, RenderLayer | Path Tracing Tile 85/240\n",
            "Fra:1 Mem:200.42M (0.00M, Peak 260.75M) | Time:09:51.13 | Remaining:15:39.71 | Mem:85.51M, Peak:86.81M | Scene, RenderLayer | Path Tracing Tile 86/240\n",
            "Fra:1 Mem:200.42M (0.00M, Peak 260.75M) | Time:09:57.47 | Remaining:15:41.91 | Mem:85.51M, Peak:86.81M | Scene, RenderLayer | Path Tracing Tile 87/240\n",
            "Fra:1 Mem:200.42M (0.00M, Peak 260.75M) | Time:10:23.34 | Remaining:15:55.40 | Mem:85.51M, Peak:86.81M | Scene, RenderLayer | Path Tracing Tile 88/240\n",
            "Fra:1 Mem:200.42M (0.00M, Peak 260.75M) | Time:10:33.81 | Remaining:16:00.61 | Mem:85.51M, Peak:86.81M | Scene, RenderLayer | Path Tracing Tile 89/240\n",
            "Fra:1 Mem:200.42M (0.00M, Peak 260.75M) | Time:11:00.79 | Remaining:16:16.53 | Mem:85.51M, Peak:86.81M | Scene, RenderLayer | Path Tracing Tile 90/240\n",
            "Fra:1 Mem:200.42M (0.00M, Peak 260.75M) | Time:11:10.89 | Remaining:16:20.33 | Mem:85.51M, Peak:86.81M | Scene, RenderLayer | Path Tracing Tile 91/240\n",
            "Fra:1 Mem:200.42M (0.00M, Peak 260.75M) | Time:11:34.05 | Remaining:16:29.69 | Mem:85.51M, Peak:86.81M | Scene, RenderLayer | Path Tracing Tile 92/240\n",
            "Fra:1 Mem:200.42M (0.00M, Peak 260.75M) | Time:11:47.80 | Remaining:16:33.89 | Mem:85.51M, Peak:86.81M | Scene, RenderLayer | Path Tracing Tile 93/240\n",
            "Fra:1 Mem:200.42M (0.00M, Peak 260.75M) | Time:12:02.26 | Remaining:16:32.35 | Mem:85.51M, Peak:86.81M | Scene, RenderLayer | Path Tracing Tile 94/240\n",
            "Fra:1 Mem:200.42M (0.00M, Peak 260.75M) | Time:12:09.25 | Remaining:16:18.15 | Mem:85.51M, Peak:86.81M | Scene, RenderLayer | Path Tracing Tile 95/240\n",
            "Fra:1 Mem:200.42M (0.00M, Peak 260.75M) | Time:12:09.41 | Remaining:16:17.77 | Mem:85.51M, Peak:86.81M | Scene, RenderLayer | Path Tracing Tile 96/240\n",
            "Fra:1 Mem:200.42M (0.00M, Peak 260.75M) | Time:12:15.32 | Remaining:15:51.34 | Mem:85.51M, Peak:86.81M | Scene, RenderLayer | Path Tracing Tile 97/240\n",
            "Fra:1 Mem:200.42M (0.00M, Peak 260.75M) | Time:12:15.42 | Remaining:15:50.91 | Mem:85.51M, Peak:86.81M | Scene, RenderLayer | Path Tracing Tile 98/240\n",
            "Fra:1 Mem:200.42M (0.00M, Peak 260.75M) | Time:12:21.28 | Remaining:15:25.18 | Mem:85.51M, Peak:86.81M | Scene, RenderLayer | Path Tracing Tile 99/240\n",
            "Fra:1 Mem:200.42M (0.00M, Peak 260.75M) | Time:12:21.41 | Remaining:15:24.64 | Mem:85.51M, Peak:86.81M | Scene, RenderLayer | Path Tracing Tile 100/240\n",
            "Fra:1 Mem:200.42M (0.00M, Peak 260.75M) | Time:12:26.93 | Remaining:14:59.79 | Mem:85.51M, Peak:86.81M | Scene, RenderLayer | Path Tracing Tile 101/240\n",
            "Fra:1 Mem:200.42M (0.00M, Peak 260.75M) | Time:12:27.23 | Remaining:14:58.57 | Mem:85.51M, Peak:86.81M | Scene, RenderLayer | Path Tracing Tile 102/240\n",
            "Fra:1 Mem:200.42M (0.00M, Peak 260.75M) | Time:12:32.90 | Remaining:14:36.40 | Mem:85.51M, Peak:86.81M | Scene, RenderLayer | Path Tracing Tile 103/240\n",
            "Fra:1 Mem:200.42M (0.00M, Peak 260.75M) | Time:12:33.79 | Remaining:14:33.28 | Mem:85.51M, Peak:86.81M | Scene, RenderLayer | Path Tracing Tile 104/240\n",
            "Fra:1 Mem:200.42M (0.00M, Peak 260.75M) | Time:12:39.42 | Remaining:14:16.61 | Mem:85.51M, Peak:86.81M | Scene, RenderLayer | Path Tracing Tile 105/240\n",
            "Fra:1 Mem:200.42M (0.00M, Peak 260.75M) | Time:12:42.80 | Remaining:14:12.62 | Mem:85.51M, Peak:86.81M | Scene, RenderLayer | Path Tracing Tile 106/240\n",
            "Fra:1 Mem:200.42M (0.00M, Peak 260.75M) | Time:13:03.91 | Remaining:14:12.53 | Mem:85.51M, Peak:86.81M | Scene, RenderLayer | Path Tracing Tile 107/240\n",
            "Fra:1 Mem:200.42M (0.00M, Peak 260.75M) | Time:13:13.94 | Remaining:14:13.55 | Mem:85.51M, Peak:86.81M | Scene, RenderLayer | Path Tracing Tile 108/240\n",
            "Fra:1 Mem:200.42M (0.00M, Peak 260.75M) | Time:13:34.59 | Remaining:14:12.66 | Mem:85.51M, Peak:86.81M | Scene, RenderLayer | Path Tracing Tile 109/240\n",
            "Fra:1 Mem:200.42M (0.00M, Peak 260.75M) | Time:13:41.00 | Remaining:14:13.26 | Mem:85.51M, Peak:86.81M | Scene, RenderLayer | Path Tracing Tile 110/240\n",
            "Fra:1 Mem:200.42M (0.00M, Peak 260.75M) | Time:13:57.09 | Remaining:14:04.17 | Mem:85.51M, Peak:86.81M | Scene, RenderLayer | Path Tracing Tile 111/240\n",
            "Fra:1 Mem:200.42M (0.00M, Peak 260.75M) | Time:13:58.11 | Remaining:14:03.58 | Mem:85.51M, Peak:86.81M | Scene, RenderLayer | Path Tracing Tile 112/240\n"
          ]
        }
      ]
    },
    {
      "cell_type": "code",
      "source": [],
      "metadata": {
        "colab": {
          "base_uri": "https://localhost:8080/",
          "height": 251
        },
        "id": "emtP9pZxaZ7T",
        "outputId": "74ebb0b7-e733-4ff8-cb56-c7dc69b2282d"
      },
      "execution_count": null,
      "outputs": [
        {
          "output_type": "error",
          "ename": "SyntaxError",
          "evalue": "ignored",
          "traceback": [
            "\u001b[0;36m  File \u001b[0;32m\"<ipython-input-32-daf9af093b2a>\"\u001b[0;36m, line \u001b[0;32m1\u001b[0m\n\u001b[0;31m    blender-3.3.2-linux-x64/blender -noaudio -b -E  --help\u001b[0m\n\u001b[0m               ^\u001b[0m\n\u001b[0;31mSyntaxError\u001b[0m\u001b[0;31m:\u001b[0m invalid syntax\n"
          ]
        }
      ]
    },
    {
      "cell_type": "code",
      "source": [
        "cd blender-3.3.2-linux-x64"
      ],
      "metadata": {
        "colab": {
          "base_uri": "https://localhost:8080/"
        },
        "id": "MARvzSRQRxVp",
        "outputId": "ed9b69e3-c694-457b-c227-0b82873f4b46"
      },
      "execution_count": null,
      "outputs": [
        {
          "output_type": "stream",
          "name": "stdout",
          "text": [
            "[Errno 2] No such file or directory: 'blender-3.3.2-linux-x64'\n",
            "/content/drive/MyDrive/IED/Mlab/blender-3.3.2-linux-x64/blender-3.3.2-linux-x64\n"
          ]
        }
      ]
    },
    {
      "cell_type": "code",
      "source": [],
      "metadata": {
        "id": "_Wo1n9VQUBc2"
      },
      "execution_count": null,
      "outputs": []
    },
    {
      "cell_type": "code",
      "source": [
        "ls"
      ],
      "metadata": {
        "colab": {
          "base_uri": "https://localhost:8080/"
        },
        "id": "wvtwSU1GN-kr",
        "outputId": "f6cf0771-0df9-41e2-f069-febdcd7dc969"
      },
      "execution_count": 43,
      "outputs": [
        {
          "output_type": "stream",
          "name": "stdout",
          "text": [
            "0001.png\n",
            "\u001b[0m\u001b[01;34m3.3\u001b[0m/\n",
            "amesh1.ply\n",
            "B.blend\n",
            "blender\n",
            "\u001b[01;34mblender-3.3.2-linux-x64\u001b[0m/\n",
            "blender-3.3.2-linux-x64.tar.xz\n",
            "blender_3_3_lts_splash_by_piotr_krynski.blend\n",
            "blender.desktop\n",
            "blender-softwaregl\n",
            "blender.svg\n",
            "blender-symbolic.svg\n",
            "blender-thumbnailer\n",
            "copyright.txt\n",
            "\u001b[01;34mlib\u001b[0m/\n",
            "\u001b[01;34mlicense\u001b[0m/\n",
            "Modified_b.m.p.s.ByRobinMarin.blend\n",
            "readme.html\n"
          ]
        }
      ]
    },
    {
      "cell_type": "code",
      "source": [
        "pwd"
      ],
      "metadata": {
        "colab": {
          "base_uri": "https://localhost:8080/",
          "height": 35
        },
        "id": "uPjlkztofAnQ",
        "outputId": "1dd7517f-2d6d-4247-f3cc-2f87abd1b2fc"
      },
      "execution_count": 41,
      "outputs": [
        {
          "output_type": "execute_result",
          "data": {
            "text/plain": [
              "'/content/drive/MyDrive/IED/Mlab/blender-3.3.2-linux-x64'"
            ],
            "application/vnd.google.colaboratory.intrinsic+json": {
              "type": "string"
            }
          },
          "metadata": {},
          "execution_count": 41
        }
      ]
    },
    {
      "cell_type": "code",
      "source": [
        "!wget https://download.blender.org/demo/splash/blender_3_3_lts_splash_by_piotr_krynski.blend"
      ],
      "metadata": {
        "colab": {
          "base_uri": "https://localhost:8080/"
        },
        "id": "ZVC85C1WNnCH",
        "outputId": "4781a410-5bb9-4843-cef3-b0aa70b6bc91"
      },
      "execution_count": null,
      "outputs": [
        {
          "output_type": "stream",
          "name": "stdout",
          "text": [
            "--2022-12-29 23:43:39--  https://download.blender.org/demo/splash/blender_3_3_lts_splash_by_piotr_krynski.blend\n",
            "Resolving download.blender.org (download.blender.org)... 82.94.213.221\n",
            "Connecting to download.blender.org (download.blender.org)|82.94.213.221|:443... connected.\n",
            "HTTP request sent, awaiting response... 200 OK\n",
            "Length: 84857521 (81M) [application/octet-stream]\n",
            "Saving to: ‘blender_3_3_lts_splash_by_piotr_krynski.blend’\n",
            "\n",
            "blender_3_3_lts_spl 100%[===================>]  80.93M  18.5MB/s    in 4.2s    \n",
            "\n",
            "2022-12-29 23:43:43 (19.1 MB/s) - ‘blender_3_3_lts_splash_by_piotr_krynski.blend’ saved [84857521/84857521]\n",
            "\n"
          ]
        }
      ]
    },
    {
      "cell_type": "code",
      "source": [
        "cd /content/drive/MyDrive/IED/Mlab/blender-3.3.2-linux-x64"
      ],
      "metadata": {
        "colab": {
          "base_uri": "https://localhost:8080/"
        },
        "id": "5U5A7SvrvAZE",
        "outputId": "3cf25872-e5b8-4e1c-8a7a-4bbea91154e7"
      },
      "execution_count": 35,
      "outputs": [
        {
          "output_type": "stream",
          "name": "stdout",
          "text": [
            "/content/drive/MyDrive/IED/Mlab/blender-3.3.2-linux-x64\n"
          ]
        }
      ]
    },
    {
      "cell_type": "code",
      "source": [
        "1A!wget https://ftp.nluug.nl/pub/graphics/blender/release/Blender3.3/blender-3.3.2-linux-x64.tar.xz"
      ],
      "metadata": {
        "colab": {
          "base_uri": "https://localhost:8080/"
        },
        "id": "PaPTmy_Q5VKX",
        "outputId": "fc83ac1a-7508-42ef-bfba-ef2b2583f360"
      },
      "execution_count": null,
      "outputs": [
        {
          "output_type": "stream",
          "name": "stdout",
          "text": [
            "--2022-12-29 23:43:44--  https://ftp.nluug.nl/pub/graphics/blender/release/Blender3.3/blender-3.3.2-linux-x64.tar.xz\n",
            "Resolving ftp.nluug.nl (ftp.nluug.nl)... 145.220.21.40, 2001:67c:6ec:221:145:220:21:40\n",
            "Connecting to ftp.nluug.nl (ftp.nluug.nl)|145.220.21.40|:443... connected.\n",
            "HTTP request sent, awaiting response... 200 OK\n",
            "Length: 205336460 (196M) [application/x-tar]\n",
            "Saving to: ‘blender-3.3.2-linux-x64.tar.xz’\n",
            "\n",
            "blender-3.3.2-linux 100%[===================>] 195.82M  57.3MB/s    in 3.6s    \n",
            "\n",
            "2022-12-29 23:43:48 (54.1 MB/s) - ‘blender-3.3.2-linux-x64.tar.xz’ saved [205336460/205336460]\n",
            "\n"
          ]
        }
      ]
    },
    {
      "cell_type": "code",
      "source": [
        "!tar -xf blender-3.3.2-linux-x64.tar.xz"
      ],
      "metadata": {
        "id": "EArVCS08Db0b"
      },
      "execution_count": null,
      "outputs": []
    },
    {
      "cell_type": "code",
      "source": [
        "ls"
      ],
      "metadata": {
        "colab": {
          "base_uri": "https://localhost:8080/"
        },
        "id": "pBguNk9Czhbg",
        "outputId": "23eac03d-e6e7-4002-9bc8-fb53ac61737e"
      },
      "execution_count": 38,
      "outputs": [
        {
          "output_type": "stream",
          "name": "stdout",
          "text": [
            "0001.png\n",
            "\u001b[0m\u001b[01;34m3.3\u001b[0m/\n",
            "amesh1.ply\n",
            "B.blend\n",
            "blender\n",
            "\u001b[01;34mblender-3.3.2-linux-x64\u001b[0m/\n",
            "blender-3.3.2-linux-x64.tar.xz\n",
            "blender_3_3_lts_splash_by_piotr_krynski.blend\n",
            "blender.desktop\n",
            "blender-softwaregl\n",
            "blender.svg\n",
            "blender-symbolic.svg\n",
            "blender-thumbnailer\n",
            "copyright.txt\n",
            "\u001b[01;34mlib\u001b[0m/\n",
            "\u001b[01;34mlicense\u001b[0m/\n",
            "Modified_b.m.p.s.ByRobinMarin.blend\n",
            "readme.html\n"
          ]
        }
      ]
    },
    {
      "cell_type": "code",
      "source": [
        "!wget https://www.blenderdiplom.com/files/Modified_b.m.p.s.ByRobinMarin.blend"
      ],
      "metadata": {
        "colab": {
          "base_uri": "https://localhost:8080/"
        },
        "id": "mL6QjaTFefLD",
        "outputId": "56ea7d7c-4661-4cb2-beb0-7fec9997c2d0"
      },
      "execution_count": 37,
      "outputs": [
        {
          "output_type": "stream",
          "name": "stdout",
          "text": [
            "--2022-12-30 00:41:33--  https://www.blenderdiplom.com/files/Modified_b.m.p.s.ByRobinMarin.blend\n",
            "Resolving www.blenderdiplom.com (www.blenderdiplom.com)... 81.169.155.127\n",
            "Connecting to www.blenderdiplom.com (www.blenderdiplom.com)|81.169.155.127|:443... connected.\n",
            "HTTP request sent, awaiting response... 200 OK\n",
            "Length: 5521077 (5.3M) [application/vnd.wolfram.mathematica.package]\n",
            "Saving to: ‘Modified_b.m.p.s.ByRobinMarin.blend’\n",
            "\n",
            "Modified_b.m.p.s.By 100%[===================>]   5.26M  24.4MB/s    in 0.2s    \n",
            "\n",
            "2022-12-30 00:41:33 (24.4 MB/s) - ‘Modified_b.m.p.s.ByRobinMarin.blend’ saved [5521077/5521077]\n",
            "\n"
          ]
        }
      ]
    },
    {
      "cell_type": "code",
      "source": [
        "!xvfb-run -a -s \"-screen 0 800x600x24\" meshlabserver -i A.stl -o -A.ply"
      ],
      "metadata": {
        "colab": {
          "base_uri": "https://localhost:8080/"
        },
        "id": "tme69iGBxiM5",
        "outputId": "88d9b707-d4f5-4b97-be36-b5438b6d3262"
      },
      "execution_count": null,
      "outputs": [
        {
          "output_type": "stream",
          "name": "stdout",
          "text": [
            "Input mesh  /content/drive/MyDrive/IED/Mlab/blender-3.3.2-linux-x64/A.stl\n",
            "^C\n"
          ]
        }
      ]
    },
    {
      "cell_type": "code",
      "source": [
        "!xvfb-run -a -s \"-screen 0 800x600x24\" meshlabserver -i mesh1.off -o amesh1.ply"
      ],
      "metadata": {
        "id": "t__vzAAv1LlH",
        "colab": {
          "base_uri": "https://localhost:8080/"
        },
        "outputId": "40e3af29-26b0-4683-e046-1757b40d2fc2"
      },
      "execution_count": null,
      "outputs": [
        {
          "output_type": "stream",
          "name": "stdout",
          "text": [
            "Input mesh  /content/drive/MyDrive/IED/Mlab/blender-3.3.2-linux-x64/mesh1.off\n",
            "output mesh  /content/drive/MyDrive/IED/Mlab/blender-3.3.2-linux-x64/amesh1.ply\n",
            "Loading Plugins:\n",
            "Current Plugins Dir is: /usr/lib/meshlab/plugins \n",
            "Error in XMLFile: filter_measure.xml - line: -1, column: -1 - \n",
            "Error in XMLFile: filter_mutualinfo.xml - line: -1, column: -1 - \n",
            "Total 227 filtering actions\n",
            "Total 13 io plugins\n",
            "Opening a file with extention off\n",
            "MeshLabServer: Failed loading of /content/drive/MyDrive/IED/Mlab/blender-3.3.2-linux-x64/mesh1.off from dir /content/drive/MyDrive/IED/Mlab/blender-3.3.2-linux-x64\n",
            "Mesh mesh1.off loaded has 0 vn 0 fn\n",
            "No Script to apply.\n",
            "Mesh /content/drive/MyDrive/IED/Mlab/blender-3.3.2-linux-x64/mesh1.off saved as /content/drive/MyDrive/IED/Mlab/blender-3.3.2-linux-x64/amesh1.ply (0 vn 0 fn)\n"
          ]
        }
      ]
    }
  ]
}